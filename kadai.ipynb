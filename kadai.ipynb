{
  "nbformat": 4,
  "nbformat_minor": 0,
  "metadata": {
    "colab": {
      "provenance": []
    },
    "kernelspec": {
      "name": "python3",
      "display_name": "Python 3"
    },
    "language_info": {
      "name": "python"
    }
  },
  "cells": [
    {
      "cell_type": "code",
      "execution_count": 1,
      "metadata": {
        "colab": {
          "base_uri": "https://localhost:8080/"
        },
        "id": "WMnJaftqgTtq",
        "outputId": "0b8b4d5c-3804-415c-808e-0b279c6d8aa7"
      },
      "outputs": [
        {
          "output_type": "stream",
          "name": "stdout",
          "text": [
            "台形の面積は115.0㎠です。\n"
          ]
        }
      ],
      "source": [
        "# 台形の面積の計算結果を出力\n",
        "# 各辺の大きさ\n",
        "top = 18\n",
        "bottom = 28\n",
        "hight = 5\n",
        "\n",
        "# 面積の計算\n",
        "size = (top + bottom) * hight /2\n",
        "\n",
        "# 出力\n",
        "print(f\"台形の面積は{size}㎠です。\")"
      ]
    }
  ]
}