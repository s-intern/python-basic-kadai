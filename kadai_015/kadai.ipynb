{
  "nbformat": 4,
  "nbformat_minor": 0,
  "metadata": {
    "colab": {
      "provenance": []
    },
    "kernelspec": {
      "name": "python3",
      "display_name": "Python 3"
    },
    "language_info": {
      "name": "python"
    }
  },
  "cells": [
    {
      "cell_type": "code",
      "execution_count": 6,
      "metadata": {
        "colab": {
          "base_uri": "https://localhost:8080/"
        },
        "id": "WMnJaftqgTtq",
        "outputId": "e4c612dd-05df-48a8-d342-a664df236cb3"
      },
      "outputs": [
        {
          "output_type": "stream",
          "name": "stdout",
          "text": [
            "侍太郎さんは30歳です。\n"
          ]
        }
      ],
      "source": [
        "## クラスの利用\n",
        "\n",
        "# クラスの作成\n",
        "class Human:\n",
        "  # 属性\n",
        "  def __init__(self, name, age):\n",
        "    self.name = name\n",
        "    self.age = age\n",
        "  # メソッド\n",
        "  def printinfo(self):\n",
        "    print(f\"{self.name}さんは{self.age}歳です。\")\n",
        "\n",
        "# インスタンス化\n",
        "user = Human(\"侍太郎\", 30)\n",
        "\n",
        "# 名前と年齢を表示\n",
        "user.printinfo()"
      ]
    }
  ]
}