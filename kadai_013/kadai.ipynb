{
  "nbformat": 4,
  "nbformat_minor": 0,
  "metadata": {
    "colab": {
      "provenance": []
    },
    "kernelspec": {
      "name": "python3",
      "display_name": "Python 3"
    },
    "language_info": {
      "name": "python"
    }
  },
  "cells": [
    {
      "cell_type": "code",
      "execution_count": 4,
      "metadata": {
        "colab": {
          "base_uri": "https://localhost:8080/"
        },
        "id": "WMnJaftqgTtq",
        "outputId": "29fb6ac2-81a8-4d6d-f884-ef8f8a788406"
      },
      "outputs": [
        {
          "output_type": "stream",
          "name": "stdout",
          "text": [
            "合計金額は1100.0円\n"
          ]
        }
      ],
      "source": [
        "# 商品購入時に消費税を加えた代金を出力する\n",
        "\n",
        "# 関数を定義（結果に少数点が含まれる場合はそのまま）\n",
        "def cluculate_price(price :int, tax_rate :float) -> float:\n",
        "  total = price * (1 + tax_rate / 100)\n",
        "  return total\n",
        "\n",
        "# 合計金額を表示\n",
        "print(f\"合計金額は{cluculate_price(1000, 10)}円\")"
      ]
    }
  ]
}