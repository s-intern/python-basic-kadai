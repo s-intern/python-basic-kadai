{
  "nbformat": 4,
  "nbformat_minor": 0,
  "metadata": {
    "colab": {
      "provenance": []
    },
    "kernelspec": {
      "name": "python3",
      "display_name": "Python 3"
    },
    "language_info": {
      "name": "python"
    }
  },
  "cells": [
    {
      "cell_type": "code",
      "execution_count": 17,
      "metadata": {
        "colab": {
          "base_uri": "https://localhost:8080/"
        },
        "id": "WMnJaftqgTtq",
        "outputId": "4358c894-87a0-46f4-920e-82b3523322ca"
      },
      "outputs": [
        {
          "output_type": "stream",
          "name": "stdout",
          "text": [
            "Aさんは大人ではありません\n",
            "Bさんは大人です\n",
            "Cさんは大人です\n",
            "Dさんは大人です\n",
            "Eさんは大人ではありません\n"
          ]
        }
      ],
      "source": [
        "## 学習したテクニックを組み合わせてコードを記述\n",
        "\n",
        "# Humanクラスの作成\n",
        "# 属性　名前(name)、年齢(age)\n",
        "# メソッド　年齢に応じて大人かどうかを判断する関数（check_adult）\n",
        "class Human:\n",
        " def __init__(self, name, age):\n",
        "  self.name = name\n",
        "  self.age = age\n",
        " def check_adult(self):\n",
        "  if self.age >= 20:\n",
        "    print(f\"{self.name}は大人です\")\n",
        "  else:\n",
        "    print(f\"{self.name}は大人ではありません\")\n",
        "\n",
        "# Humanクラスのインスタンスを複数生成してリストに追加\n",
        "person1 = Human(\"Aさん\", 15)\n",
        "person2 = Human(\"Bさん\", 25)\n",
        "person3 = Human(\"Cさん\", 20)\n",
        "person4 = Human(\"Dさん\", 35)\n",
        "person5 = Human(\"Eさん\", 10)\n",
        "all = [person1, person2, person3, person4, person5]\n",
        "\n",
        "# リストの要素数分だけcheck_adultメソッドを呼び出し\n",
        "for i in range(5):\n",
        "  all[i].check_adult()"
      ]
    }
  ]
}